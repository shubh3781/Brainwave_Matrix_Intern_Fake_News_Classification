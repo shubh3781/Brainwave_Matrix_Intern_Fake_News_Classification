{
 "cells": [
  {
   "cell_type": "markdown",
   "id": "69635e9f",
   "metadata": {},
   "source": [
    "# Fake News Detection using Machine Learning on the WELFake Dataset\n",
    "\n",
    "## Introduction\n",
    "\n",
    "In today's digital age, the proliferation of fake news has become a significant concern. The ability to automatically detect and classify news articles as real or fake is crucial for maintaining the integrity of information. This project aims to develop a machine learning model that can accurately classify news articles using the WELFake dataset. This notebook documents the entire process, from data loading and preprocessing to model training, evaluation, and deployment.\n",
    "\n",
    "---\n",
    "\n",
    "## Table of Contents\n",
    "\n",
    "1. [Importing Libraries](#importing-libraries)\n",
    "2. [Loading and Exploring the Data](#loading-and-exploring-the-data)\n",
    "   - [Dataset Description](#dataset-description)\n",
    "   - [Initial Data Inspection](#initial-data-inspection)\n",
    "3. [Data Preprocessing](#data-preprocessing)\n",
    "   - [Handling Missing Values](#handling-missing-values)\n",
    "   - [Exploratory Data Analysis](#exploratory-data-analysis)\n",
    "     - [Text Length Analysis](#text-length-analysis)\n",
    "   - [Text Cleaning](#text-cleaning)\n",
    "     - [Tokenization, Stopword Removal, and Stemming](#text-cleaning-steps)\n",
    "4. [Feature Extraction](#feature-extraction)\n",
    "   - [TF-IDF Vectorization](#tf-idf-vectorization)\n",
    "5. [Model Training](#model-training)\n",
    "   - [Train-Test Split](#train-test-split)\n",
    "   - [Multinomial Naive Bayes Classifier](#multinomial-naive-bayes-classifier)\n",
    "   - [Random Forest Classifier](#random-forest-classifier)\n",
    "6. [Model Evaluation](#model-evaluation)\n",
    "   - [Classification Reports](#classification-reports)\n",
    "7. [Model Saving and Deployment](#model-saving-and-deployment)\n",
    "   - [Saving Models with Pickle](#saving-models-with-pickle)\n",
    "   - [Loading Models for Prediction](#loading-models-for-prediction)\n",
    "8. [Prediction on New Data](#prediction-on-new-data)\n",
    "9. [Challenges and Solutions](#challenges-and-solutions)\n",
    "10. [Conclusion](#conclusion)\n",
    "11. [Future Work](#future-work)\n",
    "12. [References](#references)\n",
    "\n",
    "---\n"
   ]
  },
  {
   "cell_type": "markdown",
   "id": "fdf70bf0",
   "metadata": {},
   "source": [
    "## 1. Importing Libraries <a name=\"importing-libraries\"></a>\n",
    "\n",
    "*We begin by importing all the necessary libraries required for data manipulation, visualization, preprocessing, and model building.*"
   ]
  },
  {
   "cell_type": "code",
   "execution_count": 64,
   "id": "06995994",
   "metadata": {},
   "outputs": [],
   "source": [
    "import pandas as pd\n",
    "import numpy as np\n",
    "import matplotlib.pyplot as plt\n",
    "from nltk import word_tokenize\n",
    "from string import punctuation\n",
    "from nltk.corpus import stopwords\n",
    "from nltk.stem import PorterStemmer\n",
    "from sklearn.feature_extraction.text import TfidfVectorizer\n",
    "from sklearn.model_selection import train_test_split\n",
    "from sklearn.naive_bayes import MultinomialNB\n",
    "from sklearn.ensemble import RandomForestClassifier\n",
    "from sklearn.metrics import classification_report\n",
    "from pickle import dump\n",
    "#import nltk\n",
    "#nltk.download('punkt')\n",
    "#nltk.download('stopwords')"
   ]
  },
  {
   "cell_type": "markdown",
   "id": "60e51548",
   "metadata": {},
   "source": [
    "## 2. Loading and Exploring the Data <a name=\"loading-and-exploring-the-data\"></a>\n",
    "\n",
    "### Dataset Description <a name=\"dataset-description\"></a>\n",
    "\n",
    "*The WELFake dataset is a comprehensive collection of news articles, merged from four popular datasets (Kaggle, McIntire, Reuters, BuzzFeed Political) to prevent overfitting and provide ample text data for machine learning training.*\n",
    "\n",
    "- **Total Entries:** 72,134 news articles\n",
    "  - **Real News:** 35,028 articles (Label = 1)\n",
    "  - **Fake News:** 37,106 articles (Label = 0)\n",
    "- **Columns:**\n",
    "  - `Serial number`: Unique identifier for each article\n",
    "  - `Title`: Headline of the news article\n",
    "  - `Text`: Main content of the news article\n",
    "  - `Label`: Indicates whether the news is real (1) or fake (0)\n",
    "\n",
    "### Initial Data Inspection <a name=\"initial-data-inspection\"></a>\n",
    "\n",
    "*We load the dataset and perform initial inspections to understand its structure and identify any immediate issues.*\n"
   ]
  },
  {
   "cell_type": "code",
   "execution_count": 61,
   "id": "e51d0a8f",
   "metadata": {},
   "outputs": [
    {
     "name": "stdout",
     "output_type": "stream",
     "text": [
      "   Unnamed: 0                                              title  \\\n",
      "0           0  LAW ENFORCEMENT ON HIGH ALERT Following Threat...   \n",
      "1           1                                                NaN   \n",
      "2           2  UNBELIEVABLE! OBAMA’S ATTORNEY GENERAL SAYS MO...   \n",
      "3           3  Bobby Jindal, raised Hindu, uses story of Chri...   \n",
      "4           4  SATAN 2: Russia unvelis an image of its terrif...   \n",
      "\n",
      "                                                text  label  \n",
      "0  No comment is expected from Barack Obama Membe...      1  \n",
      "1     Did they post their votes for Hillary already?      1  \n",
      "2   Now, most of the demonstrators gathered last ...      1  \n",
      "3  A dozen politically active pastors came here f...      0  \n",
      "4  The RS-28 Sarmat missile, dubbed Satan 2, will...      1  \n"
     ]
    }
   ],
   "source": [
    "#load Data\n",
    "data = pd.read_csv(\"WELFake_Dataset.csv\")\n",
    "\n",
    "print(data.head())"
   ]
  },
  {
   "cell_type": "markdown",
   "id": "0104048c",
   "metadata": {},
   "source": [
    "## 3. Data Preprocessing <a name=\"data-preprocessing\"></a>\n",
    "\n",
    "### Handling Missing Values <a name=\"handling-missing-values\"></a>\n",
    "\n",
    "*We check for missing values and handle them appropriately to ensure data integrity.*"
   ]
  },
  {
   "cell_type": "code",
   "execution_count": 62,
   "id": "32b44ba0",
   "metadata": {},
   "outputs": [
    {
     "name": "stdout",
     "output_type": "stream",
     "text": [
      "(72134, 3)\n",
      "title    558\n",
      "text      39\n",
      "label      0\n",
      "dtype: int64\n",
      "title    0\n",
      "text     0\n",
      "label    0\n",
      "dtype: int64\n"
     ]
    }
   ],
   "source": [
    "data.drop(columns='Unnamed: 0',inplace=True)\n",
    "\n",
    "print(data.shape)\n",
    "\n",
    "print(data.isnull().sum())\n",
    "\n",
    "data.fillna(' ',inplace=True)\n",
    "print(data.isnull().sum())"
   ]
  },
  {
   "cell_type": "markdown",
   "id": "f3c5a878",
   "metadata": {},
   "source": [
    "### Exploratory Data Analysis <a name=\"exploratory-data-analysis\"></a>\n",
    "\n",
    "#### Text Length Analysis <a name=\"text-length-analysis\"></a>\n",
    "\n",
    "*We analyze the distribution of text lengths to understand differences between fake and real news articles.*"
   ]
  },
  {
   "cell_type": "code",
   "execution_count": 65,
   "id": "c036a148",
   "metadata": {},
   "outputs": [
    {
     "data": {
      "image/png": "[encoded data removed]",
      "text/plain": [
       "<Figure size 720x432 with 1 Axes>"
      ]
     },
     "metadata": {
      "needs_background": "light"
     },
     "output_type": "display_data"
    }
   ],
   "source": [
    "data['body_len'] = data['text'].apply(len)\n",
    "\n",
    "bins = np.linspace(0, 200, 40)\n",
    "plt.figure(figsize=(10, 6))\n",
    "plt.hist(data[data[\"label\"]== 1][\"body_len\"], bins, alpha=0.5, label=\"Fake\", color=\"#FF5733\")\n",
    "plt.hist(data[data[\"label\"]== 0][\"body_len\"], bins, alpha=0.5, label=\"Real\", color=\"#33FFB8\")\n",
    "plt.legend(loc=\"upper left\")\n",
    "plt.xlabel('Body Length')\n",
    "plt.ylabel('Frequency')\n",
    "plt.title('Text Length')\n",
    "plt.legend(loc='upper right')\n",
    "plt.show()"
   ]
  },
  {
   "cell_type": "markdown",
   "id": "57a45fcc",
   "metadata": {},
   "source": [
    "### Text Cleaning <a name=\"text-cleaning\"></a>\n",
    "\n",
    "*We define a function to clean the text data, which includes several preprocessing steps to prepare the data for vectorization.*\n",
    "\n",
    "#### Tokenization, Stopword Removal, and Stemming <a name=\"text-cleaning-steps\"></a>"
   ]
  },
  {
   "cell_type": "code",
   "execution_count": null,
   "id": "bb513e7f",
   "metadata": {},
   "outputs": [],
   "source": [
    "ps = PorterStemmer()\n",
    "def clean_text(txt):\n",
    "        txt = txt.lower()\n",
    "        txt = word_tokenize(txt)\n",
    "        txt = [t for t in txt if t not in punctuation]\n",
    "        txt = [t for t in txt if t not in stopwords.words(\"english\")]\n",
    "        txt = [ps.stem(t)for t in txt]\n",
    "        txt = \" \".join(txt)\n",
    "        return txt\n",
    " \n",
    "\n",
    "data.loc[:,\"clean_text\"]=data[\"text\"].apply(clean_text)\n",
    "print(data.head())"
   ]
  },
  {
   "cell_type": "markdown",
   "id": "8a54ec82",
   "metadata": {},
   "source": [
    "## 4. Feature Extraction <a name=\"feature-extraction\"></a>\n",
    "\n",
    "### TF-IDF Vectorization <a name=\"tf-idf-vectorization\"></a>\n",
    "\n",
    "*We transform the cleaned text data into numerical features using TF-IDF vectorization, which considers both term frequency and inverse document frequency.*\n"
   ]
  },
  {
   "cell_type": "code",
   "execution_count": 16,
   "id": "7d87fbc8",
   "metadata": {},
   "outputs": [],
   "source": [
    "cv = TfidfVectorizer()\n",
    "vector = cv.fit_transform(c_data[\"clean_text\"])"
   ]
  },
  {
   "cell_type": "code",
   "execution_count": 17,
   "id": "b55f887f",
   "metadata": {},
   "outputs": [
    {
     "name": "stdout",
     "output_type": "stream",
     "text": [
      "(71537, 211485)\n"
     ]
    }
   ],
   "source": [
    "print(vector.shape)"
   ]
  },
  {
   "cell_type": "code",
   "execution_count": 18,
   "id": "794ad56f",
   "metadata": {},
   "outputs": [],
   "source": [
    "features = pd.DataFrame.sparse.from_spmatrix(vector,columns=cv.get_feature_names_out())\n",
    "target = data['label']"
   ]
  },
  {
   "cell_type": "markdown",
   "id": "96022979",
   "metadata": {},
   "source": [
    "## 5. Model Training <a name=\"model-training\"></a>\n",
    "\n",
    "### Train-Test Split <a name=\"train-test-split\"></a>\n",
    "\n",
    "*We split the dataset into training and testing sets to evaluate the model's performance on unseen data.*"
   ]
  },
  {
   "cell_type": "code",
   "execution_count": 20,
   "id": "3b278829",
   "metadata": {},
   "outputs": [],
   "source": [
    "x_train,x_test,y_train,y_test = train_test_split(features,target)"
   ]
  },
  {
   "cell_type": "markdown",
   "id": "cd8d2d78",
   "metadata": {},
   "source": [
    "### Multinomial Naive Bayes Classifier <a name=\"multinomial-naive-bayes-classifier\"></a>\n",
    "\n",
    "*We train a Multinomial Naive Bayes classifier, which is suitable for text classification tasks.*"
   ]
  },
  {
   "cell_type": "code",
   "execution_count": 21,
   "id": "286dbad1",
   "metadata": {},
   "outputs": [
    {
     "data": {
      "text/html": [
       "<style>#sk-container-id-1 {color: black;background-color: white;}#sk-container-id-1 pre{padding: 0;}#sk-container-id-1 div.sk-toggleable {background-color: white;}#sk-container-id-1 label.sk-toggleable__label {cursor: pointer;display: block;width: 100%;margin-bottom: 0;padding: 0.3em;box-sizing: border-box;text-align: center;}#sk-container-id-1 label.sk-toggleable__label-arrow:before {content: \"▸\";float: left;margin-right: 0.25em;color: #696969;}#sk-container-id-1 label.sk-toggleable__label-arrow:hover:before {color: black;}#sk-container-id-1 div.sk-estimator:hover label.sk-toggleable__label-arrow:before {color: black;}#sk-container-id-1 div.sk-toggleable__content {max-height: 0;max-width: 0;overflow: hidden;text-align: left;background-color: #f0f8ff;}#sk-container-id-1 div.sk-toggleable__content pre {margin: 0.2em;color: black;border-radius: 0.25em;background-color: #f0f8ff;}#sk-container-id-1 input.sk-toggleable__control:checked~div.sk-toggleable__content {max-height: 200px;max-width: 100%;overflow: auto;}#sk-container-id-1 input.sk-toggleable__control:checked~label.sk-toggleable__label-arrow:before {content: \"▾\";}#sk-container-id-1 div.sk-estimator input.sk-toggleable__control:checked~label.sk-toggleable__label {background-color: #d4ebff;}#sk-container-id-1 div.sk-label input.sk-toggleable__control:checked~label.sk-toggleable__label {background-color: #d4ebff;}#sk-container-id-1 input.sk-hidden--visually {border: 0;clip: rect(1px 1px 1px 1px);clip: rect(1px, 1px, 1px, 1px);height: 1px;margin: -1px;overflow: hidden;padding: 0;position: absolute;width: 1px;}#sk-container-id-1 div.sk-estimator {font-family: monospace;background-color: #f0f8ff;border: 1px dotted black;border-radius: 0.25em;box-sizing: border-box;margin-bottom: 0.5em;}#sk-container-id-1 div.sk-estimator:hover {background-color: #d4ebff;}#sk-container-id-1 div.sk-parallel-item::after {content: \"\";width: 100%;border-bottom: 1px solid gray;flex-grow: 1;}#sk-container-id-1 div.sk-label:hover label.sk-toggleable__label {background-color: #d4ebff;}#sk-container-id-1 div.sk-serial::before {content: \"\";position: absolute;border-left: 1px solid gray;box-sizing: border-box;top: 0;bottom: 0;left: 50%;z-index: 0;}#sk-container-id-1 div.sk-serial {display: flex;flex-direction: column;align-items: center;background-color: white;padding-right: 0.2em;padding-left: 0.2em;position: relative;}#sk-container-id-1 div.sk-item {position: relative;z-index: 1;}#sk-container-id-1 div.sk-parallel {display: flex;align-items: stretch;justify-content: center;background-color: white;position: relative;}#sk-container-id-1 div.sk-item::before, #sk-container-id-1 div.sk-parallel-item::before {content: \"\";position: absolute;border-left: 1px solid gray;box-sizing: border-box;top: 0;bottom: 0;left: 50%;z-index: -1;}#sk-container-id-1 div.sk-parallel-item {display: flex;flex-direction: column;z-index: 1;position: relative;background-color: white;}#sk-container-id-1 div.sk-parallel-item:first-child::after {align-self: flex-end;width: 50%;}#sk-container-id-1 div.sk-parallel-item:last-child::after {align-self: flex-start;width: 50%;}#sk-container-id-1 div.sk-parallel-item:only-child::after {width: 0;}#sk-container-id-1 div.sk-dashed-wrapped {border: 1px dashed gray;margin: 0 0.4em 0.5em 0.4em;box-sizing: border-box;padding-bottom: 0.4em;background-color: white;}#sk-container-id-1 div.sk-label label {font-family: monospace;font-weight: bold;display: inline-block;line-height: 1.2em;}#sk-container-id-1 div.sk-label-container {text-align: center;}#sk-container-id-1 div.sk-container {/* jupyter's `normalize.less` sets `[hidden] { display: none; }` but bootstrap.min.css set `[hidden] { display: none !important; }` so we also need the `!important` here to be able to override the default hidden behavior on the sphinx rendered scikit-learn.org. See: https://github.com/scikit-learn/scikit-learn/issues/21755 */display: inline-block !important;position: relative;}#sk-container-id-1 div.sk-text-repr-fallback {display: none;}</style><div id=\"sk-container-id-1\" class=\"sk-top-container\"><div class=\"sk-text-repr-fallback\"><pre>MultinomialNB()</pre><b>In a Jupyter environment, please rerun this cell to show the HTML representation or trust the notebook. <br />On GitHub, the HTML representation is unable to render, please try loading this page with nbviewer.org.</b></div><div class=\"sk-container\" hidden><div class=\"sk-item\"><div class=\"sk-estimator sk-toggleable\"><input class=\"sk-toggleable__control sk-hidden--visually\" id=\"sk-estimator-id-1\" type=\"checkbox\" checked><label for=\"sk-estimator-id-1\" class=\"sk-toggleable__label sk-toggleable__label-arrow\">MultinomialNB</label><div class=\"sk-toggleable__content\"><pre>MultinomialNB()</pre></div></div></div></div></div>"
      ],
      "text/plain": [
       "MultinomialNB()"
      ]
     },
     "execution_count": 21,
     "metadata": {},
     "output_type": "execute_result"
    }
   ],
   "source": [
    "mnb=MultinomialNB()\n",
    "mnb.fit(x_train,y_train)"
   ]
  },
  {
   "cell_type": "markdown",
   "id": "529a04b8",
   "metadata": {},
   "source": [
    "### Random Forest Classifier <a name=\"random-forest-classifier\"></a>\n",
    "\n",
    "*We train a Random Forest classifier with 300 estimators to improve prediction accuracy.*\n"
   ]
  },
  {
   "cell_type": "code",
   "execution_count": 44,
   "id": "455e4e14",
   "metadata": {},
   "outputs": [
    {
     "data": {
      "text/html": [
       "<style>#sk-container-id-3 {color: black;background-color: white;}#sk-container-id-3 pre{padding: 0;}#sk-container-id-3 div.sk-toggleable {background-color: white;}#sk-container-id-3 label.sk-toggleable__label {cursor: pointer;display: block;width: 100%;margin-bottom: 0;padding: 0.3em;box-sizing: border-box;text-align: center;}#sk-container-id-3 label.sk-toggleable__label-arrow:before {content: \"▸\";float: left;margin-right: 0.25em;color: #696969;}#sk-container-id-3 label.sk-toggleable__label-arrow:hover:before {color: black;}#sk-container-id-3 div.sk-estimator:hover label.sk-toggleable__label-arrow:before {color: black;}#sk-container-id-3 div.sk-toggleable__content {max-height: 0;max-width: 0;overflow: hidden;text-align: left;background-color: #f0f8ff;}#sk-container-id-3 div.sk-toggleable__content pre {margin: 0.2em;color: black;border-radius: 0.25em;background-color: #f0f8ff;}#sk-container-id-3 input.sk-toggleable__control:checked~div.sk-toggleable__content {max-height: 200px;max-width: 100%;overflow: auto;}#sk-container-id-3 input.sk-toggleable__control:checked~label.sk-toggleable__label-arrow:before {content: \"▾\";}#sk-container-id-3 div.sk-estimator input.sk-toggleable__control:checked~label.sk-toggleable__label {background-color: #d4ebff;}#sk-container-id-3 div.sk-label input.sk-toggleable__control:checked~label.sk-toggleable__label {background-color: #d4ebff;}#sk-container-id-3 input.sk-hidden--visually {border: 0;clip: rect(1px 1px 1px 1px);clip: rect(1px, 1px, 1px, 1px);height: 1px;margin: -1px;overflow: hidden;padding: 0;position: absolute;width: 1px;}#sk-container-id-3 div.sk-estimator {font-family: monospace;background-color: #f0f8ff;border: 1px dotted black;border-radius: 0.25em;box-sizing: border-box;margin-bottom: 0.5em;}#sk-container-id-3 div.sk-estimator:hover {background-color: #d4ebff;}#sk-container-id-3 div.sk-parallel-item::after {content: \"\";width: 100%;border-bottom: 1px solid gray;flex-grow: 1;}#sk-container-id-3 div.sk-label:hover label.sk-toggleable__label {background-color: #d4ebff;}#sk-container-id-3 div.sk-serial::before {content: \"\";position: absolute;border-left: 1px solid gray;box-sizing: border-box;top: 0;bottom: 0;left: 50%;z-index: 0;}#sk-container-id-3 div.sk-serial {display: flex;flex-direction: column;align-items: center;background-color: white;padding-right: 0.2em;padding-left: 0.2em;position: relative;}#sk-container-id-3 div.sk-item {position: relative;z-index: 1;}#sk-container-id-3 div.sk-parallel {display: flex;align-items: stretch;justify-content: center;background-color: white;position: relative;}#sk-container-id-3 div.sk-item::before, #sk-container-id-3 div.sk-parallel-item::before {content: \"\";position: absolute;border-left: 1px solid gray;box-sizing: border-box;top: 0;bottom: 0;left: 50%;z-index: -1;}#sk-container-id-3 div.sk-parallel-item {display: flex;flex-direction: column;z-index: 1;position: relative;background-color: white;}#sk-container-id-3 div.sk-parallel-item:first-child::after {align-self: flex-end;width: 50%;}#sk-container-id-3 div.sk-parallel-item:last-child::after {align-self: flex-start;width: 50%;}#sk-container-id-3 div.sk-parallel-item:only-child::after {width: 0;}#sk-container-id-3 div.sk-dashed-wrapped {border: 1px dashed gray;margin: 0 0.4em 0.5em 0.4em;box-sizing: border-box;padding-bottom: 0.4em;background-color: white;}#sk-container-id-3 div.sk-label label {font-family: monospace;font-weight: bold;display: inline-block;line-height: 1.2em;}#sk-container-id-3 div.sk-label-container {text-align: center;}#sk-container-id-3 div.sk-container {/* jupyter's `normalize.less` sets `[hidden] { display: none; }` but bootstrap.min.css set `[hidden] { display: none !important; }` so we also need the `!important` here to be able to override the default hidden behavior on the sphinx rendered scikit-learn.org. See: https://github.com/scikit-learn/scikit-learn/issues/21755 */display: inline-block !important;position: relative;}#sk-container-id-3 div.sk-text-repr-fallback {display: none;}</style><div id=\"sk-container-id-3\" class=\"sk-top-container\"><div class=\"sk-text-repr-fallback\"><pre>RandomForestClassifier(n_estimators=300)</pre><b>In a Jupyter environment, please rerun this cell to show the HTML representation or trust the notebook. <br />On GitHub, the HTML representation is unable to render, please try loading this page with nbviewer.org.</b></div><div class=\"sk-container\" hidden><div class=\"sk-item\"><div class=\"sk-estimator sk-toggleable\"><input class=\"sk-toggleable__control sk-hidden--visually\" id=\"sk-estimator-id-3\" type=\"checkbox\" checked><label for=\"sk-estimator-id-3\" class=\"sk-toggleable__label sk-toggleable__label-arrow\">RandomForestClassifier</label><div class=\"sk-toggleable__content\"><pre>RandomForestClassifier(n_estimators=300)</pre></div></div></div></div></div>"
      ],
      "text/plain": [
       "RandomForestClassifier(n_estimators=300)"
      ]
     },
     "execution_count": 44,
     "metadata": {},
     "output_type": "execute_result"
    }
   ],
   "source": [
    "rf = RandomForestClassifier(n_estimators=300)\n",
    "rf.fit(x_train,y_train)"
   ]
  },
  {
   "cell_type": "markdown",
   "id": "ca063e44",
   "metadata": {},
   "source": [
    "## 6. Model Evaluation <a name=\"model-evaluation\"></a>\n",
    "\n",
    "### Classification Reports <a name=\"classification-reports\"></a>\n",
    "\n",
    "*We evaluate both models using classification reports to compare their performance.*\n"
   ]
  },
  {
   "cell_type": "code",
   "execution_count": 45,
   "id": "f6294688",
   "metadata": {},
   "outputs": [
    {
     "name": "stdout",
     "output_type": "stream",
     "text": [
      "              precision    recall  f1-score   support\n",
      "\n",
      "           0       0.90      0.92      0.91      8807\n",
      "           1       0.92      0.90      0.91      9078\n",
      "\n",
      "    accuracy                           0.91     17885\n",
      "   macro avg       0.91      0.91      0.91     17885\n",
      "weighted avg       0.91      0.91      0.91     17885\n",
      "               precision    recall  f1-score   support\n",
      "\n",
      "           0       0.94      0.94      0.94      8807\n",
      "           1       0.94      0.95      0.94      9078\n",
      "\n",
      "    accuracy                           0.94     17885\n",
      "   macro avg       0.94      0.94      0.94     17885\n",
      "weighted avg       0.94      0.94      0.94     17885\n",
      "\n"
     ]
    }
   ],
   "source": [
    "crnb = classification_report(y_test,mnb.predict(x_test))\n",
    "crf = classification_report(y_test,rf.predict(x_test))\n",
    "print(crnb,crf)"
   ]
  },
  {
   "cell_type": "markdown",
   "id": "d89d9d9b",
   "metadata": {},
   "source": [
    "## 7. Model Saving and Deployment <a name=\"model-saving-and-deployment\"></a>\n",
    "\n",
    "### Saving Models with Pickle <a name=\"saving-models-with-pickle\"></a>\n",
    "\n",
    "*We save the trained models and vectorizer using the pickle module for future use without retraining.*\n"
   ]
  },
  {
   "cell_type": "code",
   "execution_count": 36,
   "id": "3bf991be",
   "metadata": {},
   "outputs": [],
   "source": [
    "# vector creation\n",
    "f= open(\"CV_FRN.pkl\",\"wb\")\n",
    "dump(cv,f)\n",
    "f.close()\n",
    "\n",
    "# MultinomialNB model creation\n",
    "f= open(\"MNB_FRN.pkl\",\"wb\")\n",
    "dump(mnb,f)\n",
    "f.close()\n",
    "\n",
    "# RandomForestClassifier model creation\n",
    "f= open(\"RF_FRN.pkl\",\"wb\")\n",
    "dump(rf,f)\n",
    "f.close()\n",
    "\n"
   ]
  },
  {
   "cell_type": "markdown",
   "id": "46bf18b3",
   "metadata": {},
   "source": [
    "### Loading Models for Prediction <a name=\"loading-models-for-prediction\"></a>\n",
    "\n",
    "*We demonstrate how to load the saved models and vectorizer to make predictions on new data.*\n"
   ]
  },
  {
   "cell_type": "code",
   "execution_count": 38,
   "id": "4b923fce",
   "metadata": {},
   "outputs": [],
   "source": [
    "# laod in vector file for prediction\n",
    "from pickle import load\n",
    "\n",
    "f=open(\"CV_FRN.pkl\",\"rb\")\n",
    "cv=load(f)\n",
    "f.close()\n",
    "\n",
    "f=open(\"MNB_FRN.pkl\",\"rb\")\n",
    "mnb=load(f)\n",
    "f.close()\n",
    "\n",
    "f=open(\"RF_FRN.pkl\",\"rb\")\n",
    "rf=load(f)\n",
    "f.close()\n"
   ]
  },
  {
   "cell_type": "markdown",
   "id": "9f478303",
   "metadata": {},
   "source": [
    "## 8. Prediction on New Data <a name=\"prediction-on-new-data\"></a>\n",
    "\n",
    "*We accept user input, preprocess it, and use both models to predict whether the news is fake or real.*"
   ]
  },
  {
   "cell_type": "code",
   "execution_count": 58,
   "id": "99780c41",
   "metadata": {},
   "outputs": [
    {
     "name": "stdout",
     "output_type": "stream",
     "text": [
      "enter news text enter news textA dozen politically active pastors came here for a private dinner Friday night to hear a conversion story unique in the context of presidential politics: how Louisiana Gov. Bobby Jindal traveled from Hinduism to Protestant Christianity and, ultimately, became what he calls an “evangelical Catholic.” Over two hours, Jindal, 42, recalled talking with a girl in high school who wanted to “save my soul,” reading the Bible in a closet so his parents would not see him and feeling a stir while watching a movie during his senior year that depicted Jesus on the cross. “I was struck, and struck hard,” Jindal told the pastors. “This was the Son of God, and He had died for our sins.” Jindal’s session with the Christian clergy, who lead congregations in the early presidential battleground states of Iowa and South Carolina, was part of a behind-the-scenes effort by the Louisiana governor to find a political base that could help propel him into the top tier of Republican candidates seeking to run for the White House in 2016. Known in GOP circles mostly for his mastery of policy issues such as health care, Jindal, a Rhodes Scholar and graduate of the Ivy League’s Brown University, does not have an obvious pool of activist supporters to help drive excitement outside his home state. So he is harnessing his religious experience in a way that has begun to appeal to parts of the GOP’s influential core of religious conservatives, many of whom have yet to find a favorite among the Republicans eyeing the presidential race. Other potential 2016 GOP candidates are wooing the evangelical base, including Sens. Rand Paul (Ky.) and Ted Cruz (Tex.) and Indiana Gov. Mike Pence. But over the weekend in Lynchburg — a mecca of sorts for evangelicals as the home of Liberty University, founded in the 1970s by the Rev. Jerry Falwell — Jindal appeared to make progress. In addition to his dinner with the pastors, he delivered a well-received “call to action” address to 40,000 Christian conservatives gathered for Liberty’s commencement ceremony, talking again about his faith while assailing what he said was President Obama’s record of attacking religious liberty. The pastors who came to meet Jindal said his intimate descriptions of his experiences stood out. “He has the convictions, and he has what it takes to communicate them,” said Brad Sherman of Solid Rock Christian Church in Coralville, Iowa. Sherman helped former Arkansas governor Mike Huckabee in his winning 2008 campaign for delegates in Iowa. Another Huckabee admirer, the Rev. C. Mitchell Brooks of Second Baptist Church in Belton, S.C., said Jindal’s commitment to Christian values and his compelling story put him “on a par” with Huckabee, who was a Baptist preacher before entering politics. The visiting pastors flew to Lynchburg over the weekend at the invitation of the American Renewal Project, a well-funded nonprofit group that encourages evangelical Christians to engage in the civic arena with voter guides, get-out-the-vote drives and programs to train pastors in grass-roots activism. The group’s founder, David Lane, has built a pastor network in politically important states such as Iowa, Missouri, Ohio and South Carolina and has led trips to Israel with Paul and others seeking to make inroads with evangelical activists. The group that Lane invited to Lynchburg included Donald Wild­mon, a retired minister and founder of the American Family Association, a prominent evangelical activist group that has influence through its network of more than 140 Christian radio stations. Most of the pastors that Lane’s organization brought to Lynchburg had not met Jindal. But they said he captured their interest recently when he stepped forward to defend Phil Robertson, patriarch of the “Duck Dynasty” television-show family, amid a controversy over disparaging remarks he made about gays in an interview with GQ magazine. Throughout his Lynchburg visit, Jindal presented himself as a willing culture warrior. During his commencement address Saturday, he took up the cause of twin brothers whose HGTV reality series about renovating and reselling houses, “Flip It Forward,” was canceled last week after a Web site revealed that they had protested against same-sex marriage at the 2012 Democratic National Convention in Charlotte. The siblings, Jason and David Benham, both Liberty graduates, attended the graduation and a private lunch with Jindal, who called the action against them “another demonstration of intolerance from the entertainment industry.” “If these guys had protested at the Republican Party convention, instead of canceling their show, HGTV would probably have given them a raise,” Jindal said as the Liberty crowd applauded. He cited the Hobby Lobby craft store chain, which faced a legal challenge after refusing to provide employees with insurance coverage for contraceptives as required under the Affordable Care Act. Members of the family that owns Hobby Lobby, who have become heroes to many religious conservatives, have said that they are morally opposed to the use of certain types of birth control and that they considered the requirement a violation of their First Amendment right to religious freedom. The family was “committed to honor the Lord by being generous employers, paying well above minimum wage and increasing salaries four years in a row even in the midst of the enduring recession,” Jindal told the Liberty graduates. “None of this matters to the Obama administration.” But for the pastors who came to see Jindal in action, the governor’s own story was the highlight of the weekend. And in many ways, he was unlike any other aspiring president these activists had met. Piyush Jindal was born in 1971, four months after his parents arrived in Baton Rouge, La., from their native India. He changed his name to Bobby as a young boy, adopting the name of a character on a favorite television show, “The Brady Bunch.” His decision to become a Christian, he told the pastors, did not come in one moment of lightning epiphany. Instead, he said, it happened in phases, growing from small seeds planted over time. Jindal recalled that his closest friend from grade school gave him a Bible with his name emblazoned in gold on the cover as a Christmas present. It struck him initially as an unimpressive gift, Jindal told the pastors. “Who in the world would spend good money for a Bible when everyone knows you can get one free in any hotel?” he recalled thinking at the time. “And the gold lettering meant I couldn’t give it away or return it.” His religious education reached a higher plane during his junior year in high school, he told his dinner audience. He wanted to ask a pretty girl on a date during a hallway conversation, and she started talking about her faith in God and her opposition to abortion. The girl invited him to visit her church. Jindal said he was skeptical and set out to “investigate all these fanciful claims” made by the girl and other friends. He started reading the Bible in his closet at home. “I was unsure how my parents would react,” he said. After the stirring moment when he saw Christ depicted on the cross during the religious movie, the Bible and his very existence suddenly seemed clearer to him, Jindal told the pastors. Jindal did not dwell on his subsequent conversion to Catholicism just a few years later in college, where he said he immersed himself in the traditions of the church. He touched on it briefly during the commencement address, noting in passing that “I am best described as an evangelical Catholic.” Mostly, he sought to showcase the ways in which he shares values with other Christian conservatives. “I read the words of Jesus Christ, and I realized that they were true,” Jindal told the graduates Saturday, offering a less detailed accounting of his conversion than he had done the night before with the pastors. “I used to think that I had found God, but I believe it is more accurate to say that He found me.”\n"
     ]
    },
    {
     "name": "stderr",
     "output_type": "stream",
     "text": [
      "C:\\Users\\shubh\\anaconda3\\lib\\site-packages\\sklearn\\base.py:450: UserWarning: X does not have valid feature names, but MultinomialNB was fitted with feature names\n",
      "  warnings.warn(\n"
     ]
    },
    {
     "name": "stdout",
     "output_type": "stream",
     "text": [
      "0 0\n"
     ]
    }
   ],
   "source": [
    "# Prediction \n",
    "\n",
    "news = input(\"enter news text \") \n",
    "\n",
    "# Cleaned user input data\n",
    "cnews=clean_text(news)\n",
    "\n",
    "# vectorize cleaned data\n",
    "vnews=cv.transform([cnews])\n",
    "\n",
    "# predict using both Model\n",
    "#MultinomialNB model\n",
    "pred_mnb=mnb.predict(vnews)\n",
    "\n",
    "#RandomForestClassifier model\n",
    "pred_rf=rf.predict(vnews)\n",
    "\n",
    "print(pred_rf[0],pred_mnb[0])"
   ]
  },
  {
   "cell_type": "markdown",
   "id": "d0d1790f",
   "metadata": {},
   "source": [
    "## 9. Challenges and Solutions <a name=\"challenges-and-solutions\"></a>\n",
    "\n",
    "*During the project, we faced several challenges due to the large size of the dataset and high dimensionality of the feature space.*\n",
    "\n",
    "- **Memory Limitations:**\n",
    "  - **Issue:** Memory errors occurred when processing n-grams and bigrams with `CountVectorizer`, resulting in over 600,000 features.\n",
    "  - **Solution:** Switched to `TfidfVectorizer` and used a sparse matrix representation to handle the large feature set efficiently.\n",
    "\n",
    "- **Processing Time:**\n",
    "  - **Issue:** Data splitting and model training were time-consuming, with some steps taking several hours.\n",
    "  - **Solution:** Opted for more efficient algorithms and limited the use of resource-intensive processes.\n",
    "\n",
    "- **Data Preprocessing Decisions:**\n",
    "  - **Issue:** Including stopwords led to increased dimensionality and memory issues.\n",
    "  - **Solution:** Removed stopwords to reduce the feature space and avoid memory constraints.\n",
    "\n",
    "---\n",
    "\n",
    "## 10. Conclusion <a name=\"conclusion\"></a>\n",
    "\n",
    "*By carefully preprocessing the data and selecting appropriate models, we successfully built classifiers capable of distinguishing between fake and real news with high accuracy. The Random Forest Classifier performed better, achieving approximately 94% accuracy compared to 91% with Multinomial Naive Bayes. Despite challenges related to memory and processing time, the project demonstrates the effectiveness of machine learning in text classification tasks.*\n",
    "\n",
    "---\n",
    "\n",
    "## 11. Future Work <a name=\"future-work\"></a>\n",
    "\n",
    "*To further improve the model and its applicability, we plan to:*\n",
    "\n",
    "- **Optimize Memory Usage:**\n",
    "  - Explore dimensionality reduction techniques like PCA.\n",
    "  - Utilize distributed computing methods.\n",
    "\n",
    "- **Enhance Models:**\n",
    "  - Experiment with deep learning architectures such as RNNs or Transformers.\n",
    "  - Implement cross-validation for model robustness.\n",
    "\n",
    "- **Advanced Feature Engineering:**\n",
    "  - Incorporate word embeddings like Word2Vec or GloVe.\n",
    "  - Use additional metadata features if available.\n",
    "\n",
    "---\n",
    "\n",
    "## 12. References <a name=\"references\"></a>\n",
    "\n",
    "- WELFake Dataset Publication: [IEEE Transactions on Computational Social Systems](https://doi.org/10.1109/TCSS.2021.3068519)\n",
    "- NLTK Documentation: [NLTK 3.6.2](https://www.nltk.org/)\n",
    "- Scikit-learn Documentation: [scikit-learn](https://scikit-learn.org/stable/)\n",
    "- Python Pickle Module: [pickle — Python object serialization](https://docs.python.org/3/library/pickle.html)\n",
    "\n",
    "---\n"
   ]
  },
  {
   "cell_type": "code",
   "execution_count": null,
   "id": "116b8358",
   "metadata": {},
   "outputs": [],
   "source": []
  }
 ],
 "metadata": {
  "kernelspec": {
   "display_name": "Python 3",
   "language": "python",
   "name": "python3"
  },
  "language_info": {
   "codemirror_mode": {
    "name": "ipython",
    "version": 3
   },
   "file_extension": ".py",
   "mimetype": "text/x-python",
   "name": "python",
   "nbconvert_exporter": "python",
   "pygments_lexer": "ipython3",
   "version": "3.8.8"
  }
 },
 "nbformat": 4,
 "nbformat_minor": 5
}
