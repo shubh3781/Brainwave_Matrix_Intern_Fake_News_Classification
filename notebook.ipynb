{
 "cells": [
  {
   "cell_type": "markdown",
   "id": "804c3339",
   "metadata": {},
   "source": [
    "# Fake News Detection using Machine Learning on the WELFake Dataset\n",
    "\n",
    "## Introduction\n",
    "\n",
    "In today's digital age, the proliferation of fake news has become a significant concern. The ability to automatically detect and classify news articles as real or fake is crucial for maintaining the integrity of information. This project aims to develop a machine learning model that can accurately classify news articles using the WELFake dataset. This notebook documents the entire process, from data loading and preprocessing to model training, evaluation, and deployment.\n",
    "\n",
    "---\n",
    "\n",
    "## Table of Contents\n",
    "\n",
    "1. [Importing Libraries](#importing-libraries)\n",
    "2. [Loading and Exploring the Data](#loading-and-exploring-the-data)\n",
    "   - [Dataset Description](#dataset-description)\n",
    "   - [Initial Data Inspection](#initial-data-inspection)\n",
    "3. [Data Preprocessing](#data-preprocessing)\n",
    "   - [Handling Missing Values](#handling-missing-values)\n",
    "   - [Exploratory Data Analysis](#exploratory-data-analysis)\n",
    "     - [Text Length Analysis](#text-length-analysis)\n",
    "   - [Text Cleaning](#text-cleaning)\n",
    "     - [Tokenization, Stopword Removal, and Stemming](#text-cleaning-steps)\n",
    "4. [Feature Extraction](#feature-extraction)\n",
    "   - [TF-IDF Vectorization](#tf-idf-vectorization)\n",
    "5. [Model Training](#model-training)\n",
    "   - [Train-Test Split](#train-test-split)\n",
    "   - [Multinomial Naive Bayes Classifier](#multinomial-naive-bayes-classifier)\n",
    "   - [Random Forest Classifier](#random-forest-classifier)\n",
    "6. [Model Evaluation](#model-evaluation)\n",
    "   - [Classification Reports](#classification-reports)\n",
    "7. [Model Saving and Deployment](#model-saving-and-deployment)\n",
    "   - [Saving Models with Pickle](#saving-models-with-pickle)\n",
    "   - [Loading Models for Prediction](#loading-models-for-prediction)\n",
    "8. [Prediction on New Data](#prediction-on-new-data)\n",
    "9. [Challenges and Solutions](#challenges-and-solutions)\n",
    "10. [Conclusion](#conclusion)\n",
    "11. [Future Work](#future-work)\n",
    "12. [References](#references)\n",
    "\n",
    "---\n"
   ]
  },
  {
   "cell_type": "markdown",
   "id": "0b747f03",
   "metadata": {},
   "source": [
    "## 1. Importing Libraries <a name=\"importing-libraries\"></a>\n",
    "\n",
    "*We begin by importing all the necessary libraries required for data manipulation, visualization, preprocessing, and model building.*"
   ]
  },
  {
   "cell_type": "code",
   "execution_count": 1,
   "id": "06995994",
   "metadata": {},
   "outputs": [],
   "source": [
    "import pandas as pd\n",
    "import numpy as np\n",
    "import matplotlib.pyplot as plt\n",
    "from nltk import word_tokenize\n",
    "from string import punctuation\n",
    "from nltk.corpus import stopwords\n",
    "from nltk.stem import PorterStemmer\n",
    "from sklearn.feature_extraction.text import TfidfVectorizer\n",
    "from sklearn.model_selection import train_test_split\n",
    "from sklearn.naive_bayes import MultinomialNB\n",
    "from sklearn.ensemble import RandomForestClassifier\n",
    "from sklearn.metrics import classification_report\n",
    "from pickle import dump\n",
    "#import nltk\n",
    "#nltk.download('punkt')\n",
    "#nltk.download('stopwords')"
   ]
  },
  {
   "cell_type": "markdown",
   "id": "049ea52d",
   "metadata": {},
   "source": [
    "## 2. Loading and Exploring the Data <a name=\"loading-and-exploring-the-data\"></a>\n",
    "\n",
    "### Dataset Description <a name=\"dataset-description\"></a>\n",
    "\n",
    "*The WELFake dataset is a comprehensive collection of news articles, merged from four popular datasets (Kaggle, McIntire, Reuters, BuzzFeed Political) to prevent overfitting and provide ample text data for machine learning training.*\n",
    "\n",
    "- **Total Entries:** 72,134 news articles\n",
    "  - **Real News:** 35,028 articles (Label = 1)\n",
    "  - **Fake News:** 37,106 articles (Label = 0)\n",
    "- **Columns:**\n",
    "  - `Serial number`: Unique identifier for each article\n",
    "  - `Title`: Headline of the news article\n",
    "  - `Text`: Main content of the news article\n",
    "  - `Label`: Indicates whether the news is real (1) or fake (0)\n",
    "\n",
    "### Initial Data Inspection <a name=\"initial-data-inspection\"></a>\n",
    "\n",
    "*We load the dataset and perform initial inspections to understand its structure and identify any immediate issues.*\n"
   ]
  },
  {
   "cell_type": "code",
   "execution_count": 2,
   "id": "e51d0a8f",
   "metadata": {},
   "outputs": [
    {
     "name": "stdout",
     "output_type": "stream",
     "text": [
      "   Unnamed: 0                                              title  \\\n",
      "0           0  LAW ENFORCEMENT ON HIGH ALERT Following Threat...   \n",
      "1           1                                                NaN   \n",
      "2           2  UNBELIEVABLE! OBAMA’S ATTORNEY GENERAL SAYS MO...   \n",
      "3           3  Bobby Jindal, raised Hindu, uses story of Chri...   \n",
      "4           4  SATAN 2: Russia unvelis an image of its terrif...   \n",
      "\n",
      "                                                text  label  \n",
      "0  No comment is expected from Barack Obama Membe...      1  \n",
      "1     Did they post their votes for Hillary already?      1  \n",
      "2   Now, most of the demonstrators gathered last ...      1  \n",
      "3  A dozen politically active pastors came here f...      0  \n",
      "4  The RS-28 Sarmat missile, dubbed Satan 2, will...      1  \n"
     ]
    }
   ],
   "source": [
    "#load Data\n",
    "data = pd.read_csv(\"WELFake_Dataset.csv\")\n",
    "\n",
    "print(data.head())"
   ]
  },
  {
   "cell_type": "markdown",
   "id": "e79ffd31",
   "metadata": {},
   "source": [
    "## 3. Data Preprocessing <a name=\"data-preprocessing\"></a>\n",
    "\n",
    "### Handling Missing Values <a name=\"handling-missing-values\"></a>\n",
    "\n",
    "*We check for missing values and handle them appropriately to ensure data integrity.*"
   ]
  },
  {
   "cell_type": "code",
   "execution_count": 3,
   "id": "32b44ba0",
   "metadata": {},
   "outputs": [
    {
     "name": "stdout",
     "output_type": "stream",
     "text": [
      "(72134, 3)\n",
      "title    558\n",
      "text      39\n",
      "label      0\n",
      "dtype: int64\n",
      "title    0\n",
      "text     0\n",
      "label    0\n",
      "dtype: int64\n"
     ]
    }
   ],
   "source": [
    "data.drop(columns='Unnamed: 0',inplace=True)\n",
    "\n",
    "print(data.shape)\n",
    "\n",
    "print(data.isnull().sum())\n",
    "\n",
    "data.fillna(' ',inplace=True)\n",
    "print(data.isnull().sum())"
   ]
  },
  {
   "cell_type": "markdown",
   "id": "f4f2e323",
   "metadata": {},
   "source": [
    "### Exploratory Data Analysis <a name=\"exploratory-data-analysis\"></a>\n",
    "\n",
    "#### Text Length Analysis <a name=\"text-length-analysis\"></a>\n",
    "\n",
    "*We analyze the distribution of text lengths to understand differences between fake and real news articles.*"
   ]
  },
  {
   "cell_type": "code",
   "execution_count": 4,
   "id": "ee485f59",
   "metadata": {},
   "outputs": [
    {
     "data": {
      "image/png": "[encoded data removed]",
      "text/plain": [
       "<Figure size 720x432 with 1 Axes>"
      ]
     },
     "metadata": {
      "needs_background": "light"
     },
     "output_type": "display_data"
    }
   ],
   "source": [
    "data['body_len'] = data['text'].apply(len)\n",
    "\n",
    "bins = np.linspace(0, 200, 40)\n",
    "plt.figure(figsize=(10, 6))\n",
    "plt.hist(data[data[\"label\"]== 1][\"body_len\"], bins, alpha=0.5, label=\"Fake\", color=\"#FF5733\")\n",
    "plt.hist(data[data[\"label\"]== 0][\"body_len\"], bins, alpha=0.5, label=\"Real\", color=\"#33FFB8\")\n",
    "plt.legend(loc=\"upper left\")\n",
    "plt.xlabel('Body Length')\n",
    "plt.ylabel('Frequency')\n",
    "plt.title('Text Length')\n",
    "plt.legend(loc='upper right')\n",
    "plt.show()"
   ]
  },
  {
   "cell_type": "markdown",
   "id": "1f06bba0",
   "metadata": {},
   "source": [
    "### Text Cleaning <a name=\"text-cleaning\"></a>\n",
    "\n",
    "*We define a function to clean the text data, which includes several preprocessing steps to prepare the data for vectorization.*\n",
    "\n",
    "#### Tokenization, Stopword Removal, and Stemming <a name=\"text-cleaning-steps\"></a>"
   ]
  },
  {
   "cell_type": "code",
   "execution_count": 5,
   "id": "bb513e7f",
   "metadata": {},
   "outputs": [
    {
     "name": "stdout",
     "output_type": "stream",
     "text": [
      "                                               title  \\\n",
      "0  LAW ENFORCEMENT ON HIGH ALERT Following Threat...   \n",
      "1                                                      \n",
      "2  UNBELIEVABLE! OBAMA’S ATTORNEY GENERAL SAYS MO...   \n",
      "3  Bobby Jindal, raised Hindu, uses story of Chri...   \n",
      "4  SATAN 2: Russia unvelis an image of its terrif...   \n",
      "\n",
      "                                                text  label  body_len  \\\n",
      "0  No comment is expected from Barack Obama Membe...      1      5049   \n",
      "1     Did they post their votes for Hillary already?      1        46   \n",
      "2   Now, most of the demonstrators gathered last ...      1       216   \n",
      "3  A dozen politically active pastors came here f...      0      8010   \n",
      "4  The RS-28 Sarmat missile, dubbed Satan 2, will...      1      1916   \n",
      "\n",
      "                                          clean_text  \n",
      "0  comment expect barack obama member fyf911 fuky...  \n",
      "1                          post vote hillari alreadi  \n",
      "2  demonstr gather last night exercis constitut p...  \n",
      "3  dozen polit activ pastor came privat dinner fr...  \n",
      "4  rs-28 sarmat missil dub satan 2 replac ss-18 f...  \n"
     ]
    }
   ],
   "source": [
    "ps = PorterStemmer()\n",
    "def clean_text(txt):\n",
    "        txt = txt.lower()\n",
    "        txt = word_tokenize(txt)\n",
    "        txt = [t for t in txt if t not in punctuation]\n",
    "        txt = [t for t in txt if t not in stopwords.words(\"english\")]\n",
    "        txt = [ps.stem(t)for t in txt]\n",
    "        txt = \" \".join(txt)\n",
    "        return txt\n",
    " \n",
    "\n",
    "data.loc[:,\"clean_text\"]=data[\"text\"].apply(clean_text)\n",
    "print(data.head())"
   ]
  },
  {
   "cell_type": "markdown",
   "id": "3a6896ee",
   "metadata": {},
   "source": [
    "## 4. Feature Extraction <a name=\"feature-extraction\"></a>\n",
    "\n",
    "### TF-IDF Vectorization <a name=\"tf-idf-vectorization\"></a>\n",
    "\n",
    "*We transform the cleaned text data into numerical features using TF-IDF vectorization, which considers both term frequency and inverse document frequency.*\n"
   ]
  },
  {
   "cell_type": "code",
   "execution_count": 7,
   "id": "7d87fbc8",
   "metadata": {},
   "outputs": [],
   "source": [
    "cv = TfidfVectorizer()\n",
    "vector = cv.fit_transform(data[\"clean_text\"])"
   ]
  },
  {
   "cell_type": "code",
   "execution_count": 8,
   "id": "b55f887f",
   "metadata": {},
   "outputs": [
    {
     "name": "stdout",
     "output_type": "stream",
     "text": [
      "(72134, 211778)\n"
     ]
    }
   ],
   "source": [
    "print(vector.shape)"
   ]
  },
  {
   "cell_type": "code",
   "execution_count": 9,
   "id": "794ad56f",
   "metadata": {},
   "outputs": [],
   "source": [
    "features = pd.DataFrame.sparse.from_spmatrix(vector,columns=cv.get_feature_names_out())\n",
    "target = data['label']"
   ]
  },
  {
   "cell_type": "code",
   "execution_count": 26,
   "id": "8dfcfb8a",
   "metadata": {},
   "outputs": [
    {
     "name": "stdout",
     "output_type": "stream",
     "text": [
      "         00       000  0000  000000031  00000017  00000031  000035  00004  \\\n",
      "0  0.034446  0.000000   0.0        0.0       0.0       0.0     0.0    0.0   \n",
      "1  0.000000  0.000000   0.0        0.0       0.0       0.0     0.0    0.0   \n",
      "2  0.000000  0.000000   0.0        0.0       0.0       0.0     0.0    0.0   \n",
      "3  0.000000  0.011335   0.0        0.0       0.0       0.0     0.0    0.0   \n",
      "4  0.000000  0.078388   0.0        0.0       0.0       0.0     0.0    0.0   \n",
      "\n",
      "   000048  00006  ...  集体安全条约组织  集体安全条约组织与联合国专门机构  集体安全条约组织是多层面结构  \\\n",
      "0     0.0    0.0  ...       0.0               0.0             0.0   \n",
      "1     0.0    0.0  ...       0.0               0.0             0.0   \n",
      "2     0.0    0.0  ...       0.0               0.0             0.0   \n",
      "3     0.0    0.0  ...       0.0               0.0             0.0   \n",
      "4     0.0    0.0  ...       0.0               0.0             0.0   \n",
      "\n",
      "   集体安全条约组织正在积极促进帮助阿富汗进行冲突后重建以及消除来自该国的毒品威胁的国际努力  集体安全条约组织秘书长博尔久扎  集体提出创新办法  \\\n",
      "0                                           0.0              0.0       0.0   \n",
      "1                                           0.0              0.0       0.0   \n",
      "2                                           0.0              0.0       0.0   \n",
      "3                                           0.0              0.0       0.0   \n",
      "4                                           0.0              0.0       0.0   \n",
      "\n",
      "   非法贩运毒品以及确保国际信息安全  预防和解决冲突  ﬁnd   ｓꮭ  \n",
      "0               0.0      0.0  0.0  0.0  \n",
      "1               0.0      0.0  0.0  0.0  \n",
      "2               0.0      0.0  0.0  0.0  \n",
      "3               0.0      0.0  0.0  0.0  \n",
      "4               0.0      0.0  0.0  0.0  \n",
      "\n",
      "[5 rows x 211778 columns]\n"
     ]
    }
   ],
   "source": [
    "print(features.head())"
   ]
  },
  {
   "cell_type": "markdown",
   "id": "13093114",
   "metadata": {},
   "source": [
    "## 5. Model Training <a name=\"model-training\"></a>\n",
    "\n",
    "### Train-Test Split <a name=\"train-test-split\"></a>\n",
    "\n",
    "*We split the dataset into training and testing sets to evaluate the model's performance on unseen data.*"
   ]
  },
  {
   "cell_type": "code",
   "execution_count": 13,
   "id": "3b278829",
   "metadata": {},
   "outputs": [],
   "source": [
    "x_train,x_test,y_train,y_test = train_test_split(features,target)"
   ]
  },
  {
   "cell_type": "markdown",
   "id": "253a6d9e",
   "metadata": {},
   "source": [
    "### Multinomial Naive Bayes Classifier <a name=\"multinomial-naive-bayes-classifier\"></a>\n",
    "\n",
    "*We train a Multinomial Naive Bayes classifier, which is suitable for text classification tasks.*"
   ]
  },
  {
   "cell_type": "code",
   "execution_count": 14,
   "id": "286dbad1",
   "metadata": {},
   "outputs": [
    {
     "data": {
      "text/html": [
       "<style>#sk-container-id-1 {color: black;background-color: white;}#sk-container-id-1 pre{padding: 0;}#sk-container-id-1 div.sk-toggleable {background-color: white;}#sk-container-id-1 label.sk-toggleable__label {cursor: pointer;display: block;width: 100%;margin-bottom: 0;padding: 0.3em;box-sizing: border-box;text-align: center;}#sk-container-id-1 label.sk-toggleable__label-arrow:before {content: \"▸\";float: left;margin-right: 0.25em;color: #696969;}#sk-container-id-1 label.sk-toggleable__label-arrow:hover:before {color: black;}#sk-container-id-1 div.sk-estimator:hover label.sk-toggleable__label-arrow:before {color: black;}#sk-container-id-1 div.sk-toggleable__content {max-height: 0;max-width: 0;overflow: hidden;text-align: left;background-color: #f0f8ff;}#sk-container-id-1 div.sk-toggleable__content pre {margin: 0.2em;color: black;border-radius: 0.25em;background-color: #f0f8ff;}#sk-container-id-1 input.sk-toggleable__control:checked~div.sk-toggleable__content {max-height: 200px;max-width: 100%;overflow: auto;}#sk-container-id-1 input.sk-toggleable__control:checked~label.sk-toggleable__label-arrow:before {content: \"▾\";}#sk-container-id-1 div.sk-estimator input.sk-toggleable__control:checked~label.sk-toggleable__label {background-color: #d4ebff;}#sk-container-id-1 div.sk-label input.sk-toggleable__control:checked~label.sk-toggleable__label {background-color: #d4ebff;}#sk-container-id-1 input.sk-hidden--visually {border: 0;clip: rect(1px 1px 1px 1px);clip: rect(1px, 1px, 1px, 1px);height: 1px;margin: -1px;overflow: hidden;padding: 0;position: absolute;width: 1px;}#sk-container-id-1 div.sk-estimator {font-family: monospace;background-color: #f0f8ff;border: 1px dotted black;border-radius: 0.25em;box-sizing: border-box;margin-bottom: 0.5em;}#sk-container-id-1 div.sk-estimator:hover {background-color: #d4ebff;}#sk-container-id-1 div.sk-parallel-item::after {content: \"\";width: 100%;border-bottom: 1px solid gray;flex-grow: 1;}#sk-container-id-1 div.sk-label:hover label.sk-toggleable__label {background-color: #d4ebff;}#sk-container-id-1 div.sk-serial::before {content: \"\";position: absolute;border-left: 1px solid gray;box-sizing: border-box;top: 0;bottom: 0;left: 50%;z-index: 0;}#sk-container-id-1 div.sk-serial {display: flex;flex-direction: column;align-items: center;background-color: white;padding-right: 0.2em;padding-left: 0.2em;position: relative;}#sk-container-id-1 div.sk-item {position: relative;z-index: 1;}#sk-container-id-1 div.sk-parallel {display: flex;align-items: stretch;justify-content: center;background-color: white;position: relative;}#sk-container-id-1 div.sk-item::before, #sk-container-id-1 div.sk-parallel-item::before {content: \"\";position: absolute;border-left: 1px solid gray;box-sizing: border-box;top: 0;bottom: 0;left: 50%;z-index: -1;}#sk-container-id-1 div.sk-parallel-item {display: flex;flex-direction: column;z-index: 1;position: relative;background-color: white;}#sk-container-id-1 div.sk-parallel-item:first-child::after {align-self: flex-end;width: 50%;}#sk-container-id-1 div.sk-parallel-item:last-child::after {align-self: flex-start;width: 50%;}#sk-container-id-1 div.sk-parallel-item:only-child::after {width: 0;}#sk-container-id-1 div.sk-dashed-wrapped {border: 1px dashed gray;margin: 0 0.4em 0.5em 0.4em;box-sizing: border-box;padding-bottom: 0.4em;background-color: white;}#sk-container-id-1 div.sk-label label {font-family: monospace;font-weight: bold;display: inline-block;line-height: 1.2em;}#sk-container-id-1 div.sk-label-container {text-align: center;}#sk-container-id-1 div.sk-container {/* jupyter's `normalize.less` sets `[hidden] { display: none; }` but bootstrap.min.css set `[hidden] { display: none !important; }` so we also need the `!important` here to be able to override the default hidden behavior on the sphinx rendered scikit-learn.org. See: https://github.com/scikit-learn/scikit-learn/issues/21755 */display: inline-block !important;position: relative;}#sk-container-id-1 div.sk-text-repr-fallback {display: none;}</style><div id=\"sk-container-id-1\" class=\"sk-top-container\"><div class=\"sk-text-repr-fallback\"><pre>MultinomialNB()</pre><b>In a Jupyter environment, please rerun this cell to show the HTML representation or trust the notebook. <br />On GitHub, the HTML representation is unable to render, please try loading this page with nbviewer.org.</b></div><div class=\"sk-container\" hidden><div class=\"sk-item\"><div class=\"sk-estimator sk-toggleable\"><input class=\"sk-toggleable__control sk-hidden--visually\" id=\"sk-estimator-id-1\" type=\"checkbox\" checked><label for=\"sk-estimator-id-1\" class=\"sk-toggleable__label sk-toggleable__label-arrow\">MultinomialNB</label><div class=\"sk-toggleable__content\"><pre>MultinomialNB()</pre></div></div></div></div></div>"
      ],
      "text/plain": [
       "MultinomialNB()"
      ]
     },
     "execution_count": 14,
     "metadata": {},
     "output_type": "execute_result"
    }
   ],
   "source": [
    "mnb=MultinomialNB()\n",
    "mnb.fit(x_train,y_train)"
   ]
  },
  {
   "cell_type": "markdown",
   "id": "3963fed6",
   "metadata": {},
   "source": [
    "### Random Forest Classifier <a name=\"random-forest-classifier\"></a>\n",
    "\n",
    "*We train a Random Forest classifier with 300 estimators to improve prediction accuracy.*\n"
   ]
  },
  {
   "cell_type": "code",
   "execution_count": 15,
   "id": "09fd789d",
   "metadata": {},
   "outputs": [
    {
     "data": {
      "text/html": [
       "<style>#sk-container-id-2 {color: black;background-color: white;}#sk-container-id-2 pre{padding: 0;}#sk-container-id-2 div.sk-toggleable {background-color: white;}#sk-container-id-2 label.sk-toggleable__label {cursor: pointer;display: block;width: 100%;margin-bottom: 0;padding: 0.3em;box-sizing: border-box;text-align: center;}#sk-container-id-2 label.sk-toggleable__label-arrow:before {content: \"▸\";float: left;margin-right: 0.25em;color: #696969;}#sk-container-id-2 label.sk-toggleable__label-arrow:hover:before {color: black;}#sk-container-id-2 div.sk-estimator:hover label.sk-toggleable__label-arrow:before {color: black;}#sk-container-id-2 div.sk-toggleable__content {max-height: 0;max-width: 0;overflow: hidden;text-align: left;background-color: #f0f8ff;}#sk-container-id-2 div.sk-toggleable__content pre {margin: 0.2em;color: black;border-radius: 0.25em;background-color: #f0f8ff;}#sk-container-id-2 input.sk-toggleable__control:checked~div.sk-toggleable__content {max-height: 200px;max-width: 100%;overflow: auto;}#sk-container-id-2 input.sk-toggleable__control:checked~label.sk-toggleable__label-arrow:before {content: \"▾\";}#sk-container-id-2 div.sk-estimator input.sk-toggleable__control:checked~label.sk-toggleable__label {background-color: #d4ebff;}#sk-container-id-2 div.sk-label input.sk-toggleable__control:checked~label.sk-toggleable__label {background-color: #d4ebff;}#sk-container-id-2 input.sk-hidden--visually {border: 0;clip: rect(1px 1px 1px 1px);clip: rect(1px, 1px, 1px, 1px);height: 1px;margin: -1px;overflow: hidden;padding: 0;position: absolute;width: 1px;}#sk-container-id-2 div.sk-estimator {font-family: monospace;background-color: #f0f8ff;border: 1px dotted black;border-radius: 0.25em;box-sizing: border-box;margin-bottom: 0.5em;}#sk-container-id-2 div.sk-estimator:hover {background-color: #d4ebff;}#sk-container-id-2 div.sk-parallel-item::after {content: \"\";width: 100%;border-bottom: 1px solid gray;flex-grow: 1;}#sk-container-id-2 div.sk-label:hover label.sk-toggleable__label {background-color: #d4ebff;}#sk-container-id-2 div.sk-serial::before {content: \"\";position: absolute;border-left: 1px solid gray;box-sizing: border-box;top: 0;bottom: 0;left: 50%;z-index: 0;}#sk-container-id-2 div.sk-serial {display: flex;flex-direction: column;align-items: center;background-color: white;padding-right: 0.2em;padding-left: 0.2em;position: relative;}#sk-container-id-2 div.sk-item {position: relative;z-index: 1;}#sk-container-id-2 div.sk-parallel {display: flex;align-items: stretch;justify-content: center;background-color: white;position: relative;}#sk-container-id-2 div.sk-item::before, #sk-container-id-2 div.sk-parallel-item::before {content: \"\";position: absolute;border-left: 1px solid gray;box-sizing: border-box;top: 0;bottom: 0;left: 50%;z-index: -1;}#sk-container-id-2 div.sk-parallel-item {display: flex;flex-direction: column;z-index: 1;position: relative;background-color: white;}#sk-container-id-2 div.sk-parallel-item:first-child::after {align-self: flex-end;width: 50%;}#sk-container-id-2 div.sk-parallel-item:last-child::after {align-self: flex-start;width: 50%;}#sk-container-id-2 div.sk-parallel-item:only-child::after {width: 0;}#sk-container-id-2 div.sk-dashed-wrapped {border: 1px dashed gray;margin: 0 0.4em 0.5em 0.4em;box-sizing: border-box;padding-bottom: 0.4em;background-color: white;}#sk-container-id-2 div.sk-label label {font-family: monospace;font-weight: bold;display: inline-block;line-height: 1.2em;}#sk-container-id-2 div.sk-label-container {text-align: center;}#sk-container-id-2 div.sk-container {/* jupyter's `normalize.less` sets `[hidden] { display: none; }` but bootstrap.min.css set `[hidden] { display: none !important; }` so we also need the `!important` here to be able to override the default hidden behavior on the sphinx rendered scikit-learn.org. See: https://github.com/scikit-learn/scikit-learn/issues/21755 */display: inline-block !important;position: relative;}#sk-container-id-2 div.sk-text-repr-fallback {display: none;}</style><div id=\"sk-container-id-2\" class=\"sk-top-container\"><div class=\"sk-text-repr-fallback\"><pre>RandomForestClassifier(n_estimators=300)</pre><b>In a Jupyter environment, please rerun this cell to show the HTML representation or trust the notebook. <br />On GitHub, the HTML representation is unable to render, please try loading this page with nbviewer.org.</b></div><div class=\"sk-container\" hidden><div class=\"sk-item\"><div class=\"sk-estimator sk-toggleable\"><input class=\"sk-toggleable__control sk-hidden--visually\" id=\"sk-estimator-id-2\" type=\"checkbox\" checked><label for=\"sk-estimator-id-2\" class=\"sk-toggleable__label sk-toggleable__label-arrow\">RandomForestClassifier</label><div class=\"sk-toggleable__content\"><pre>RandomForestClassifier(n_estimators=300)</pre></div></div></div></div></div>"
      ],
      "text/plain": [
       "RandomForestClassifier(n_estimators=300)"
      ]
     },
     "execution_count": 15,
     "metadata": {},
     "output_type": "execute_result"
    }
   ],
   "source": [
    "rf = RandomForestClassifier(n_estimators=300)\n",
    "rf.fit(x_train,y_train)"
   ]
  },
  {
   "cell_type": "markdown",
   "id": "5b3c50a4",
   "metadata": {},
   "source": [
    "## 6. Model Evaluation <a name=\"model-evaluation\"></a>\n",
    "\n",
    "### Classification Reports <a name=\"classification-reports\"></a>\n",
    "\n",
    "*We evaluate both models using classification reports to compare their performance.*\n"
   ]
  },
  {
   "cell_type": "code",
   "execution_count": 21,
   "id": "12fb7fc5",
   "metadata": {},
   "outputs": [
    {
     "name": "stdout",
     "output_type": "stream",
     "text": [
      "MultinomialNB =               precision    recall  f1-score   support\n",
      "\n",
      "           0       0.88      0.88      0.88      8831\n",
      "           1       0.89      0.89      0.89      9203\n",
      "\n",
      "    accuracy                           0.88     18034\n",
      "   macro avg       0.88      0.88      0.88     18034\n",
      "weighted avg       0.88      0.88      0.88     18034\n",
      " RandomForestClassifier =               precision    recall  f1-score   support\n",
      "\n",
      "           0       0.96      0.93      0.94      8831\n",
      "           1       0.93      0.96      0.95      9203\n",
      "\n",
      "    accuracy                           0.94     18034\n",
      "   macro avg       0.95      0.94      0.94     18034\n",
      "weighted avg       0.95      0.94      0.94     18034\n",
      "\n"
     ]
    }
   ],
   "source": [
    "crnb = classification_report(y_test,mnb.predict(x_test))\n",
    "crf = classification_report(y_test,rf.predict(x_test))\n",
    "print(\"MultinomialNB =\",crnb,\"RandomForestClassifier =\",crf)"
   ]
  },
  {
   "cell_type": "markdown",
   "id": "836af389",
   "metadata": {},
   "source": [
    "## 7. Model Saving and Deployment <a name=\"model-saving-and-deployment\"></a>\n",
    "\n",
    "### Saving Models with Pickle <a name=\"saving-models-with-pickle\"></a>\n",
    "\n",
    "*We save the trained models and vectorizer using the pickle module for future use without retraining.*\n"
   ]
  },
  {
   "cell_type": "code",
   "execution_count": 11,
   "id": "db921f8a",
   "metadata": {},
   "outputs": [],
   "source": [
    "f= open(\"CV_FRN.pkl\",\"wb\")\n",
    "dump(cv,f)\n",
    "f.close()"
   ]
  },
  {
   "cell_type": "code",
   "execution_count": 18,
   "id": "a813d721",
   "metadata": {},
   "outputs": [],
   "source": [
    "# vector creation\n",
    "f= open(\"CV_FRN.pkl\",\"wb\")\n",
    "dump(cv,f)\n",
    "f.close()\n",
    "\n",
    "# MultinomialNB model creation\n",
    "f= open(\"MNB_FRN.pkl\",\"wb\")\n",
    "dump(mnb,f)\n",
    "f.close()\n",
    "\n",
    "# RandomForestClassifier model creation\n",
    "f= open(\"RF_FRN.pkl\",\"wb\")\n",
    "dump(rf,f)\n",
    "f.close()\n",
    "\n"
   ]
  },
  {
   "cell_type": "markdown",
   "id": "26a2666d",
   "metadata": {},
   "source": [
    "### Loading Models for Prediction <a name=\"loading-models-for-prediction\"></a>\n",
    "\n",
    "*We demonstrate how to load the saved models and vectorizer to make predictions on new data.*\n"
   ]
  },
  {
   "cell_type": "code",
   "execution_count": 19,
   "id": "9edf5483",
   "metadata": {},
   "outputs": [],
   "source": [
    "# laod in vector file for prediction\n",
    "from pickle import load\n",
    "\n",
    "f=open(\"CV_FRN.pkl\",\"rb\")\n",
    "cv=load(f)\n",
    "f.close()\n",
    "\n",
    "f=open(\"MNB_FRN.pkl\",\"rb\")\n",
    "mnb=load(f)\n",
    "f.close()\n",
    "\n",
    "f=open(\"RF_FRN.pkl\",\"rb\")\n",
    "rf=load(f)\n",
    "f.close()\n"
   ]
  },
  {
   "cell_type": "markdown",
   "id": "43b0be3f",
   "metadata": {},
   "source": [
    "## 8. Prediction on New Data <a name=\"prediction-on-new-data\"></a>\n",
    "\n",
    "*We accept user input, preprocess it, and use both models to predict whether the news is fake or real.*"
   ]
  },
  {
   "cell_type": "code",
   "execution_count": 24,
   "id": "34c9daa8",
   "metadata": {},
   "outputs": [
    {
     "name": "stdout",
     "output_type": "stream",
     "text": [
      "enter news text GENEVA (Reuters) - The United Nations called on Monday for a humanitarian pause in the Yemeni capital of Sanaa on Tuesday to allow civilians to leave their homes, aid workers to reach them, and the wounded to get medical care. Jamie McGoldrick, U.N. humanitarian coordinator in Yemen, said in a statement that the streets of Sanaa had become  battlegrounds  and that aid workers  remain in lockdown .  Thus, I call on all parties to the conflict to urgently enable a humanitarian pause on Tuesday 5 December, between 10:00 a.m. and 16:00 p.m. to allow civilians to leave their homes and seek assistance and protection and to facilitate the movement of aid workers to ensure the continuity of life-saving programs,  he said.  McGoldrick warned the warring parties that any deliberate attacks against civilians, and against civilian and medical infrastructure, are  clear violations of international humanitarian law and may constitute war crimes . \n",
      "MultinomialNB = 0 RandomForestClassifier = 0\n"
     ]
    }
   ],
   "source": [
    "# Prediction \n",
    "\n",
    "news = input(\"enter news text \") \n",
    "\n",
    "# Cleaned user input data\n",
    "cnews=clean_text(news)\n",
    "\n",
    "# vectorize cleaned data\n",
    "vnews=cv.transform([cnews])\n",
    "\n",
    "# predict using both Model\n",
    "#MultinomialNB model\n",
    "pred_mnb=mnb.predict(vnews)\n",
    "\n",
    "#RandomForestClassifier model\n",
    "pred_rf=rf.predict(vnews)\n",
    "\n",
    "print(\"MultinomialNB =\",pred_mnb[0],\"RandomForestClassifier =\",pred_rf[0])"
   ]
  },
  {
   "cell_type": "markdown",
   "id": "7a651d92",
   "metadata": {},
   "source": [
    "## 9. Challenges and Solutions <a name=\"challenges-and-solutions\"></a>\n",
    "\n",
    "*During the project, we faced several challenges due to the large size of the dataset and high dimensionality of the feature space.*\n",
    "\n",
    "- **Memory Limitations:**\n",
    "  - **Issue:** Memory errors occurred when processing n-grams and bigrams with `CountVectorizer`, resulting in over 600,000 features.\n",
    "  - **Solution:** Switched to `TfidfVectorizer` and used a sparse matrix representation to handle the large feature set efficiently.\n",
    "\n",
    "- **Processing Time:**\n",
    "  - **Issue:** Data splitting and model training were time-consuming, with some steps taking several hours.\n",
    "  - **Solution:** Opted for more efficient algorithms and limited the use of resource-intensive processes.\n",
    "\n",
    "- **Data Preprocessing Decisions:**\n",
    "  - **Issue:** Including stopwords led to increased dimensionality and memory issues.\n",
    "  - **Solution:** Removed stopwords to reduce the feature space and avoid memory constraints.\n",
    "\n",
    "---\n",
    "\n",
    "## 10. Conclusion <a name=\"conclusion\"></a>\n",
    "\n",
    "*By carefully preprocessing the data and selecting appropriate models, we successfully built classifiers capable of distinguishing between fake and real news with high accuracy. The Random Forest Classifier performed better, achieving approximately 94% accuracy compared to 91% with Multinomial Naive Bayes. Despite challenges related to memory and processing time, the project demonstrates the effectiveness of machine learning in text classification tasks.*\n",
    "\n",
    "\n",
    "---\n",
    "\n",
    "## 12. References <a name=\"references\"></a>\n",
    "\n",
    "- WELFake Dataset Publication: [IEEE Transactions on Computational Social Systems](https://doi.org/10.1109/TCSS.2021.3068519)\n",
    "- NLTK Documentation: [NLTK 3.6.2](https://www.nltk.org/)\n",
    "- Scikit-learn Documentation: [scikit-learn](https://scikit-learn.org/stable/)\n",
    "- Python Pickle Module: [pickle — Python object serialization](https://docs.python.org/3/library/pickle.html)\n",
    "\n",
    "---\n"
   ]
  },
  {
   "cell_type": "code",
   "execution_count": null,
   "id": "3576c065",
   "metadata": {},
   "outputs": [],
   "source": []
  }
 ],
 "metadata": {
  "kernelspec": {
   "display_name": "Python 3",
   "language": "python",
   "name": "python3"
  },
  "language_info": {
   "codemirror_mode": {
    "name": "ipython",
    "version": 3
   },
   "file_extension": ".py",
   "mimetype": "text/x-python",
   "name": "python",
   "nbconvert_exporter": "python",
   "pygments_lexer": "ipython3",
   "version": "3.8.8"
  }
 },
 "nbformat": 4,
 "nbformat_minor": 5
}
